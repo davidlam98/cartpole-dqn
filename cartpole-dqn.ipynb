{
 "cells": [
  {
   "cell_type": "code",
   "execution_count": null,
   "metadata": {},
   "outputs": [],
   "source": [
    "import gym\n",
    "import random\n",
    "import numpy as np\n",
    "import torch\n",
    "import torch.nn as nn\n",
    "import torch.nn.functional as F\n",
    "import torch.optim as optim\n",
    "from collections import deque"
   ]
  },
  {
   "cell_type": "code",
   "execution_count": null,
   "metadata": {},
   "outputs": [],
   "source": [
    "# Create the environment \n",
    "environment_name = \"CartPole-v1\"\n",
    "environment = gym.make(environment_name)"
   ]
  },
  {
   "cell_type": "code",
   "execution_count": null,
   "metadata": {},
   "outputs": [],
   "source": [
    "class NN_Model(nn.Module):\n",
    "    def __init__(self):\n",
    "        nn.Module.__init__(self)\n",
    "        self.fc1 = nn.Linear(4,32) # 1st layer: 4 inputs, Hidden layer: 128 neurons \n",
    "        self.fc2 = nn.Linear(32,2) # 3rd layer 2 outputs \n",
    "    \n",
    "    def forward(self,x):\n",
    "        x = F.relu(self.fc1(x))\n",
    "        x = self.fc2(x)\n",
    "        return x    "
   ]
  },
  {
   "cell_type": "code",
   "execution_count": null,
   "metadata": {},
   "outputs": [],
   "source": [
    "class DQN_Agent():\n",
    "    def __init__(self):\n",
    "        self.action_size = environment.action_space.n # Action size = 2 (left, right)\n",
    "        self.state_size = environment.observation_space.shape[0] # State size = 4 ()\n",
    "        \n",
    "        self.gamma = 0.95 # 0 means prioritise immediate rewards, 1 means prioritise future rewards\n",
    "        self.epsilon = 1 # Exploration rate \n",
    "        self.epsilon_decay = 0.995 # The rate of decreasing the exploration rate\n",
    "        self.epsilon_min = 0.01 # The minimum exploration rate \n",
    "        self.learning_rate = 0.001 \n",
    "        self.memory = deque(maxlen=2000) # Basically an array but last element gets removed when a new one is added\n",
    "        self.batch_size = 64\n",
    "        \n",
    "        self.optimizer = optim.Adam(model.parameters(), self.learning_rate)\n",
    "        self.mse_loss = nn.MSELoss()\n",
    "    \n",
    "    # Store each episode in memory\n",
    "    def remember(self, state, action, reward, next_state, done):\n",
    "        state = torch.tensor(state).float()\n",
    "        next_state = torch.tensor(next_state).float()\n",
    "        self.memory.append((state, action, reward, next_state, done))\n",
    "     \n",
    "    # Select an action to make\n",
    "    def action(self, state, model):\n",
    "        # If generated number is between 0-1 is less than epsilon, select random action\n",
    "        if np.random.rand() <= self.epsilon: \n",
    "            return random.randrange(self.action_size)\n",
    "        # Otherwise select action based on neural network\n",
    "        else:\n",
    "            state = torch.tensor(state).float()\n",
    "            action = model(state)\n",
    "            return torch.argmax(action).tolist()\n",
    "    \n",
    "    # Train the neural network with the stored memory \n",
    "    def train(self, model):\n",
    "        # Only perform training if memory is greater than the batch size\n",
    "        if len(self.memory) > self.batch_size:\n",
    "            batch = random.sample(self.memory, self.batch_size) # Extract a random batch of replays in memory\n",
    "            for state, action, reward, next_state, done in batch:\n",
    "                current_q_values = model(state)\n",
    "                target_q_values = model(next_state)\n",
    "                if not done:\n",
    "                    action_value = (reward + self.gamma * torch.max(target_q_values).tolist()) # Calculate temporal difference\n",
    "                else:\n",
    "                    action_value = reward\n",
    "                target_q_values[action] = action_value\n",
    "\n",
    "                loss = self.mse_loss(current_q_values, target_q_values) \n",
    "                self.optimizer.zero_grad()\n",
    "                loss.backward()\n",
    "                self.optimizer.step()\n",
    "    \n",
    "    # Decay the exploration rate \n",
    "    def update_epsilon(self):\n",
    "        if self.epsilon > self.epsilon_min:\n",
    "            self.epsilon *= self.epsilon_decay\n",
    "        "
   ]
  },
  {
   "cell_type": "code",
   "execution_count": null,
   "metadata": {},
   "outputs": [],
   "source": [
    "model = NN_Model()\n",
    "agent = DQN_Agent()"
   ]
  },
  {
   "cell_type": "code",
   "execution_count": null,
   "metadata": {
    "scrolled": false
   },
   "outputs": [],
   "source": [
    "time = 0 \n",
    "episodes = 0\n",
    "while time < 498: # Train for 200 epochs\n",
    "    episodes += 1\n",
    "    state = environment.reset() # Reset the game \n",
    "    state = torch.tensor(state).float() # Convert from numpy to tensor\n",
    "\n",
    "    for time in range(2000):\n",
    "        action = agent.action(state, model) # Choose action\n",
    "        next_state, reward, done, _ = environment.step(action) # Apply the action onto the cartpole\n",
    "        reward = reward if not done else -10\n",
    "        agent.remember(state, action, reward, next_state, done) # Add episode to memory\n",
    "        agent.train(model) #  Train agent\n",
    "        agent.update_epsilon() \n",
    "        state = next_state\n",
    "        if done:\n",
    "            print(\"Episode:\", episodes, \"/1000\", \"Score:\", time)\n",
    "            break\n",
    "\n",
    "        environment.render() # Display the cartpole game\n",
    "environment.close() # Close the window \n",
    "\n",
    "# Save the trained weights \n",
    "torch.save(model.state_dict(), 'trained_weights.pt')\n"
   ]
  },
  {
   "cell_type": "code",
   "execution_count": null,
   "metadata": {},
   "outputs": [],
   "source": [
    "#Load the trained weights \n",
    "model.load_state_dict(torch.load('trained_weights.pt'))\n",
    "load = model.eval()"
   ]
  },
  {
   "cell_type": "code",
   "execution_count": null,
   "metadata": {},
   "outputs": [],
   "source": [
    "state = environment.reset() # Reset the game \n",
    "state = torch.tensor(state).float() # Convert from numpy to tensor\n",
    "for time in range(2000):\n",
    "    action = agent.action(state, load) # Choose action\n",
    "    next_state, reward, done, _ = environment.step(action) # Apply the action onto the cartpole\n",
    "    state = next_state\n",
    "    if done:\n",
    "        print(\"Score:\", time)\n",
    "        break\n",
    "\n",
    "    environment.render() # Display the cartpole game\n",
    "environment.close() # Close the window "
   ]
  }
 ],
 "metadata": {
  "kernelspec": {
   "display_name": "Python 3",
   "language": "python",
   "name": "python3"
  },
  "language_info": {
   "codemirror_mode": {
    "name": "ipython",
    "version": 3
   },
   "file_extension": ".py",
   "mimetype": "text/x-python",
   "name": "python",
   "nbconvert_exporter": "python",
   "pygments_lexer": "ipython3",
   "version": "3.8.3"
  }
 },
 "nbformat": 4,
 "nbformat_minor": 4
}
